{
 "cells": [
  {
   "cell_type": "markdown",
   "id": "17d89a80-d2cd-43b3-9176-eaafad86c9a7",
   "metadata": {},
   "source": [
    "# Stock Price Predictor\n"
   ]
  },
  {
   "cell_type": "code",
   "execution_count": 1,
   "id": "7be018eb-a04c-40f8-840e-db264212a4a1",
   "metadata": {},
   "outputs": [],
   "source": [
    "import numpy as np\n",
    "import pandas as pd\n",
    "import yfinance as yf\n",
    "import seaborn as sns\n",
    "import matplotlib.pyplot as plt"
   ]
  },
  {
   "cell_type": "code",
   "execution_count": 2,
   "id": "499e1131-0995-4d08-8f22-a7d2ee9c8d4c",
   "metadata": {},
   "outputs": [
    {
     "name": "stdin",
     "output_type": "stream",
     "text": [
      "enter the stock code GC=F\n"
     ]
    },
    {
     "name": "stderr",
     "output_type": "stream",
     "text": [
      "[*********************100%%**********************]  1 of 1 completed\n"
     ]
    },
    {
     "data": {
      "text/html": [
       "<div>\n",
       "<style scoped>\n",
       "    .dataframe tbody tr th:only-of-type {\n",
       "        vertical-align: middle;\n",
       "    }\n",
       "\n",
       "    .dataframe tbody tr th {\n",
       "        vertical-align: top;\n",
       "    }\n",
       "\n",
       "    .dataframe thead th {\n",
       "        text-align: right;\n",
       "    }\n",
       "</style>\n",
       "<table border=\"1\" class=\"dataframe\">\n",
       "  <thead>\n",
       "    <tr style=\"text-align: right;\">\n",
       "      <th></th>\n",
       "      <th>Open</th>\n",
       "      <th>High</th>\n",
       "      <th>Low</th>\n",
       "      <th>Close</th>\n",
       "      <th>Volume</th>\n",
       "    </tr>\n",
       "    <tr>\n",
       "      <th>Date</th>\n",
       "      <th></th>\n",
       "      <th></th>\n",
       "      <th></th>\n",
       "      <th></th>\n",
       "      <th></th>\n",
       "    </tr>\n",
       "  </thead>\n",
       "  <tbody>\n",
       "    <tr>\n",
       "      <th>2023-01-03</th>\n",
       "      <td>1836.199951</td>\n",
       "      <td>1839.699951</td>\n",
       "      <td>1836.199951</td>\n",
       "      <td>1839.699951</td>\n",
       "      <td>29</td>\n",
       "    </tr>\n",
       "    <tr>\n",
       "      <th>2023-01-04</th>\n",
       "      <td>1845.599976</td>\n",
       "      <td>1859.099976</td>\n",
       "      <td>1845.599976</td>\n",
       "      <td>1852.800049</td>\n",
       "      <td>25</td>\n",
       "    </tr>\n",
       "    <tr>\n",
       "      <th>2023-01-05</th>\n",
       "      <td>1855.199951</td>\n",
       "      <td>1855.199951</td>\n",
       "      <td>1834.800049</td>\n",
       "      <td>1834.800049</td>\n",
       "      <td>24</td>\n",
       "    </tr>\n",
       "    <tr>\n",
       "      <th>2023-01-06</th>\n",
       "      <td>1838.400024</td>\n",
       "      <td>1868.199951</td>\n",
       "      <td>1835.300049</td>\n",
       "      <td>1864.199951</td>\n",
       "      <td>26</td>\n",
       "    </tr>\n",
       "    <tr>\n",
       "      <th>2023-01-09</th>\n",
       "      <td>1867.000000</td>\n",
       "      <td>1880.000000</td>\n",
       "      <td>1867.000000</td>\n",
       "      <td>1872.699951</td>\n",
       "      <td>62</td>\n",
       "    </tr>\n",
       "  </tbody>\n",
       "</table>\n",
       "</div>"
      ],
      "text/plain": [
       "                   Open         High          Low        Close  Volume\n",
       "Date                                                                  \n",
       "2023-01-03  1836.199951  1839.699951  1836.199951  1839.699951      29\n",
       "2023-01-04  1845.599976  1859.099976  1845.599976  1852.800049      25\n",
       "2023-01-05  1855.199951  1855.199951  1834.800049  1834.800049      24\n",
       "2023-01-06  1838.400024  1868.199951  1835.300049  1864.199951      26\n",
       "2023-01-09  1867.000000  1880.000000  1867.000000  1872.699951      62"
      ]
     },
     "execution_count": 2,
     "metadata": {},
     "output_type": "execute_result"
    }
   ],
   "source": [
    "stock = input('enter the stock code')\n",
    "data = yf.download(stock, '2023-01-01', '2024-01-01', auto_adjust=True)\n",
    "data.head()"
   ]
  },
  {
   "cell_type": "code",
   "execution_count": 3,
   "id": "1774a7d7-c3f4-4ca0-9a14-360202413f73",
   "metadata": {},
   "outputs": [
    {
     "data": {
      "text/plain": [
       "Open      0\n",
       "High      0\n",
       "Low       0\n",
       "Close     0\n",
       "Volume    0\n",
       "dtype: int64"
      ]
     },
     "execution_count": 3,
     "metadata": {},
     "output_type": "execute_result"
    }
   ],
   "source": [
    "data.isnull().sum()"
   ]
  },
  {
   "cell_type": "code",
   "execution_count": 5,
   "id": "5654e83a-600b-4121-beea-3c5649b6d1b3",
   "metadata": {},
   "outputs": [
    {
     "name": "stderr",
     "output_type": "stream",
     "text": [
      "C:\\Users\\HP\\AppData\\Local\\Temp\\ipykernel_1744\\3152734909.py:1: UserWarning: \n",
      "\n",
      "`distplot` is a deprecated function and will be removed in seaborn v0.14.0.\n",
      "\n",
      "Please adapt your code to use either `displot` (a figure-level function with\n",
      "similar flexibility) or `histplot` (an axes-level function for histograms).\n",
      "\n",
      "For a guide to updating your code to use the new functions, please see\n",
      "https://gist.github.com/mwaskom/de44147ed2974457ad6372750bbe5751\n",
      "\n",
      "  sns.distplot(data['Close'])\n"
     ]
    },
    {
     "data": {
      "text/plain": [
       "<Axes: xlabel='Close', ylabel='Density'>"
      ]
     },
     "execution_count": 5,
     "metadata": {},
     "output_type": "execute_result"
    },
    {
     "data": {
      "image/png": "[encoded data removed]",
      "text/plain": [
       "<Figure size 640x480 with 1 Axes>"
      ]
     },
     "metadata": {},
     "output_type": "display_data"
    }
   ],
   "source": [
    "sns.distplot(data['Close'])"
   ]
  },
  {
   "cell_type": "markdown",
   "id": "0d12af7c-938c-4555-ac7f-9bddf68f7737",
   "metadata": {},
   "source": [
    "## Model Data Preperation"
   ]
  },
  {
   "cell_type": "code",
   "execution_count": 6,
   "id": "a484bc7c-6050-4a6b-a749-1433ed38b328",
   "metadata": {},
   "outputs": [],
   "source": [
    "x = data.drop('Close', axis=1)\n",
    "y = data['Close']\n"
   ]
  },
  {
   "cell_type": "code",
   "execution_count": 7,
   "id": "ecb6ffd9-7b70-45c1-a362-999924ea076c",
   "metadata": {},
   "outputs": [],
   "source": [
    "from sklearn.model_selection import train_test_split"
   ]
  },
  {
   "cell_type": "code",
   "execution_count": 7,
   "id": "c4522454-44f1-4876-be1d-e61d17d5be29",
   "metadata": {},
   "outputs": [],
   "source": [
    "from sklearn.model_selection import train_test_split"
   ]
  },
  {
   "cell_type": "code",
   "execution_count": 9,
   "id": "0add047c-c2ad-4741-bf54-4a419361dd2f",
   "metadata": {},
   "outputs": [],
   "source": [
    "x_train, x_test, y_train, y_test = train_test_split(x,y, test_size=0.2, random_state=0)"
   ]
  },
  {
   "cell_type": "markdown",
   "id": "6cacf739-133c-442f-aa0c-e1af5b2a31a8",
   "metadata": {},
   "source": [
    "## Function to test the metrics"
   ]
  },
  {
   "cell_type": "code",
   "execution_count": 10,
   "id": "38e4b52c-1688-4675-9bd0-ccc18af6e884",
   "metadata": {},
   "outputs": [],
   "source": [
    "from sklearn.metrics import mean_squared_error, r2_score"
   ]
  },
  {
   "cell_type": "code",
   "execution_count": 11,
   "id": "b242dcc2-3825-4458-adc7-ab7a824516d8",
   "metadata": {},
   "outputs": [],
   "source": [
    "def calculate_merics(y_test, prediction):\n",
    "    mse = mean_squared_error(y_test, prediction)\n",
    "    rmse = np.sqrt(mse)\n",
    "    r2 = r2_score(y_test, prediction)\n",
    "    print('mse:', mse)\n",
    "    print('rmse:',rmse)\n",
    "    print('r2_score:',r2)\n",
    "    "
   ]
  },
  {
   "cell_type": "markdown",
   "id": "0f923dd5-a780-423e-83d0-71c8a993c901",
   "metadata": {},
   "source": [
    "## Model Building using Linear Regression"
   ]
  },
  {
   "cell_type": "code",
   "execution_count": 12,
   "id": "316d3788-bb30-4733-95a9-ad45af155809",
   "metadata": {},
   "outputs": [],
   "source": [
    "from sklearn.linear_model import LinearRegression\n",
    "\n",
    "lr = LinearRegression()\n",
    "lr.fit(x_train, y_train)\n",
    "lr_predict = lr.predict(x_test)"
   ]
  },
  {
   "cell_type": "code",
   "execution_count": 19,
   "id": "6cfb429a-2a18-4ec2-9f4f-bd6e287e0774",
   "metadata": {},
   "outputs": [
    {
     "name": "stdout",
     "output_type": "stream",
     "text": [
      "[1908.37017452 1896.48089652 1990.19671781 1896.29569795 1926.95218559\n",
      " 1914.35601189 1916.66147043 2026.94309499 2005.27927503 1944.74133489\n",
      " 1894.13003076 2057.07887247 1960.06873173 1832.50198845 1924.21093934\n",
      " 1974.25995536 1981.19240609 1974.9840592  1934.61671202 1977.09045269\n",
      " 1889.50095707 1826.90438063 1985.75178868 1947.75167093 1950.4269777\n",
      " 2015.96916595 1913.65545062 1994.59122654 2039.31928145 1816.42852915\n",
      " 1875.2996952  1984.36556168 1956.27946757 2043.24689453 1994.90148118\n",
      " 1965.34485559 1940.97181586 1875.37973977 1870.36340028 1906.91817145\n",
      " 1929.1798844  1927.68396225 1949.4504778  1979.57156992 2018.99192617\n",
      " 1974.39758194 1923.53323093 1816.25304451 2022.18009222 1922.13556934\n",
      " 1988.93476464]\n",
      "1910.5999755859375\n"
     ]
    }
   ],
   "source": [
    "print(lr_predict)\n",
    "print(y_test.iloc[0])"
   ]
  },
  {
   "cell_type": "code",
   "execution_count": 15,
   "id": "a587474b-e8b3-485f-a005-456fbfe28655",
   "metadata": {},
   "outputs": [
    {
     "name": "stdout",
     "output_type": "stream",
     "text": [
      "mse: 34.7038513826666\n",
      "rmse: 5.890997486221378\n",
      "r2_score: 0.9902092416853947\n"
     ]
    }
   ],
   "source": [
    "calculate_merics(y_test, lr_predict)"
   ]
  },
  {
   "cell_type": "markdown",
   "id": "77951441-1874-4226-b77a-9fe73abb6eca",
   "metadata": {},
   "source": [
    "## Model Building using Lasso Regression"
   ]
  },
  {
   "cell_type": "code",
   "execution_count": 16,
   "id": "4fafd0e9-78c4-4cd8-a872-3820a7bef957",
   "metadata": {},
   "outputs": [],
   "source": [
    "from sklearn.linear_model import Lasso"
   ]
  },
  {
   "cell_type": "code",
   "execution_count": 17,
   "id": "e7e1585a-15a6-4bdf-83ea-21bbc2d9dd27",
   "metadata": {},
   "outputs": [
    {
     "name": "stdout",
     "output_type": "stream",
     "text": [
      "mse: 35.42292787163156\n",
      "rmse: 5.95171638030842\n",
      "r2_score: 0.990006373593449\n"
     ]
    }
   ],
   "source": [
    "la = Lasso()\n",
    "la.fit(x_train, y_train)\n",
    "la_predict = la.predict(x_test)\n",
    "calculate_merics(y_test, la_predict)"
   ]
  },
  {
   "cell_type": "markdown",
   "id": "61816bab-e4d1-406d-9448-5dc5137979bf",
   "metadata": {},
   "source": [
    "## Model Building Using Ridge Regression"
   ]
  },
  {
   "cell_type": "code",
   "execution_count": 20,
   "id": "e106af40-4ad9-4261-b8cf-07afceb4bece",
   "metadata": {},
   "outputs": [],
   "source": [
    "from sklearn.linear_model import Ridge"
   ]
  },
  {
   "cell_type": "code",
   "execution_count": 22,
   "id": "86cde9d6-d9cd-4d01-8181-e5731cefee31",
   "metadata": {},
   "outputs": [
    {
     "name": "stdout",
     "output_type": "stream",
     "text": [
      "mse: 34.7054013558043\n",
      "rmse: 5.891129039140485\n",
      "r2_score: 0.9902088044021602\n"
     ]
    }
   ],
   "source": [
    "ri = Ridge()\n",
    "ri.fit(x_train, y_train)\n",
    "ri_predict = ri.predict(x_test)\n",
    "calculate_merics(y_test, ri_predict)"
   ]
  },
  {
   "cell_type": "markdown",
   "id": "ca965582-9fed-41bb-a843-e76c1d80ff54",
   "metadata": {},
   "source": [
    "## Model Optimization"
   ]
  },
  {
   "cell_type": "code",
   "execution_count": 23,
   "id": "bbf66481-eebb-44b5-9752-3bec811ae151",
   "metadata": {},
   "outputs": [],
   "source": [
    "from scipy.stats import norm, skew\n",
    "from scipy  import stats"
   ]
  },
  {
   "cell_type": "code",
   "execution_count": 26,
   "id": "53c93e69-5af4-4ae1-9b7a-024bd88d9f31",
   "metadata": {},
   "outputs": [
    {
     "name": "stderr",
     "output_type": "stream",
     "text": [
      "C:\\Users\\HP\\AppData\\Local\\Temp\\ipykernel_1744\\717961543.py:2: UserWarning: \n",
      "\n",
      "`distplot` is a deprecated function and will be removed in seaborn v0.14.0.\n",
      "\n",
      "Please adapt your code to use either `displot` (a figure-level function with\n",
      "similar flexibility) or `histplot` (an axes-level function for histograms).\n",
      "\n",
      "For a guide to updating your code to use the new functions, please see\n",
      "https://gist.github.com/mwaskom/de44147ed2974457ad6372750bbe5751\n",
      "\n",
      "  sns.distplot(data['Close'], fit=norm)\n"
     ]
    },
    {
     "data": {
      "image/png": "[encoded data removed]",
      "text/plain": [
       "<Figure size 640x480 with 1 Axes>"
      ]
     },
     "metadata": {},
     "output_type": "display_data"
    },
    {
     "data": {
      "image/png": "[encoded data removed]",
      "text/plain": [
       "<Figure size 640x480 with 1 Axes>"
      ]
     },
     "metadata": {},
     "output_type": "display_data"
    }
   ],
   "source": [
    "data['Close'] = np.log1p(data['Close'])\n",
    "sns.distplot(data['Close'], fit=norm)\n",
    "fig = plt.figure()\n",
    "res = stats.probplot(data['Close'], plot=plt)\n",
    "plt.show()"
   ]
  },
  {
   "cell_type": "code",
   "execution_count": 27,
   "id": "11e90799-1ab5-4e01-8a85-52d1786d5dc5",
   "metadata": {},
   "outputs": [],
   "source": [
    "x = data.drop('Close', axis=1)\n",
    "y = data['Close']\n",
    "from sklearn.model_selection import train_test_split\n",
    "x_train, x_test, y_train, y_test = train_test_split(x,y, test_size=0.2, random_state=0)"
   ]
  },
  {
   "cell_type": "code",
   "execution_count": 28,
   "id": "ac67b456-a1b3-4b4c-8659-df8208b4259c",
   "metadata": {},
   "outputs": [
    {
     "name": "stdout",
     "output_type": "stream",
     "text": [
      "mse: 1.226779213190446e-08\n",
      "rmse: 0.00011076006560084938\n",
      "r2_score: 0.9905555343317893\n"
     ]
    }
   ],
   "source": [
    "ri = Ridge()\n",
    "ri.fit(x_train, y_train)\n",
    "ri_predict = ri.predict(x_test)\n",
    "calculate_merics(y_test, ri_predict)"
   ]
  },
  {
   "cell_type": "code",
   "execution_count": 31,
   "id": "0e71a913-954e-47ed-96ac-180d4f77c997",
   "metadata": {},
   "outputs": [
    {
     "name": "stdout",
     "output_type": "stream",
     "text": [
      "1.1463216286064872\n",
      "1.1462616365392797\n"
     ]
    }
   ],
   "source": [
    "print(y_test.iloc[0])\n",
    "print(ri_predict[0])"
   ]
  },
  {
   "cell_type": "markdown",
   "id": "9e2f845f-063e-4da4-96b9-ee0d5c0f64d3",
   "metadata": {},
   "source": [
    "# Ridge Regression Model is Predicting well after the model optimization"
   ]
  },
  {
   "cell_type": "markdown",
   "id": "5a7f6411-888e-431d-8824-8c083f7741f7",
   "metadata": {},
   "source": [
    "## Loading the Model"
   ]
  },
  {
   "cell_type": "code",
   "execution_count": 32,
   "id": "bb110cf6-1816-4209-b8aa-3d81deaa2e35",
   "metadata": {},
   "outputs": [],
   "source": [
    "import joblib"
   ]
  },
  {
   "cell_type": "code",
   "execution_count": 33,
   "id": "b7cda211-dee5-4793-9b99-01d680dbf873",
   "metadata": {},
   "outputs": [],
   "source": [
    "joblib.dump(ri, 'model.pkl')\n",
    "Ridge_from_joblib = model = joblib.load('model.pkl')"
   ]
  },
  {
   "cell_type": "code",
   "execution_count": null,
   "id": "a636699b-a4c7-43d8-ba93-30fd45b955a1",
   "metadata": {},
   "outputs": [],
   "source": []
  }
 ],
 "metadata": {
  "kernelspec": {
   "display_name": "Python 3 (ipykernel)",
   "language": "python",
   "name": "python3"
  },
  "language_info": {
   "codemirror_mode": {
    "name": "ipython",
    "version": 3
   },
   "file_extension": ".py",
   "mimetype": "text/x-python",
   "name": "python",
   "nbconvert_exporter": "python",
   "pygments_lexer": "ipython3",
   "version": "3.12.1"
  }
 },
 "nbformat": 4,
 "nbformat_minor": 5
}
